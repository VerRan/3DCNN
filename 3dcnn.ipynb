{
 "cells": [
  {
   "cell_type": "markdown",
   "metadata": {},
   "source": [
    "# 3DCNN"
   ]
  },
  {
   "cell_type": "markdown",
   "metadata": {},
   "source": [
    "## 使用Deep AMI训练\n",
    "1. ssh 到deep ami ec2\n",
    "2. 启动jupyter notebook\n",
    "3. 打开隧道，本机才可以访问远程ec2上的notebook\n",
    "ssh -i test-oregon.pem.pem -N -f -L 8888:localhost:8888 ubuntu@ec2-54-184-219-24.us-west-2.compute.amazonaws.com\n",
    "4. 通过链接访问jupyter ，具体已控制台打印为准 http://127.0.0.1:8888/?token=aaa30a0486929bdd5adcff3d0dd4e2c433b1bb84313a72ba\n",
    "\n",
    "参考文档：https://docs.amazonaws.cn/dlami/latest/devguide/setup-jupyter-configure-client-linux.html"
   ]
  },
  {
   "cell_type": "markdown",
   "metadata": {},
   "source": [
    "### 安装所需依赖"
   ]
  },
  {
   "cell_type": "code",
   "execution_count": 23,
   "metadata": {},
   "outputs": [
    {
     "name": "stdout",
     "output_type": "stream",
     "text": [
      "Requirement already satisfied: matplotlib in /usr/local/lib/python3.6/dist-packages (3.3.3)\n",
      "Requirement already satisfied: opencv-python-headless in /usr/local/lib/python3.6/dist-packages (4.4.0.46)\n",
      "Requirement already satisfied: tqdm in /usr/local/lib/python3.6/dist-packages (4.54.1)\n",
      "Collecting pydot\n",
      "  Using cached pydot-1.4.1-py2.py3-none-any.whl (19 kB)\n",
      "Requirement already satisfied: GraphViz in /usr/local/lib/python3.6/dist-packages (0.15)\n",
      "Requirement already satisfied: kiwisolver>=1.0.1 in /usr/local/lib/python3.6/dist-packages (from matplotlib) (1.3.1)\n",
      "Requirement already satisfied: numpy>=1.15 in /usr/local/lib/python3.6/dist-packages (from matplotlib) (1.18.2)\n",
      "Requirement already satisfied: pillow>=6.2.0 in /usr/local/lib/python3.6/dist-packages (from matplotlib) (6.2.1)\n",
      "Requirement already satisfied: cycler>=0.10 in /usr/local/lib/python3.6/dist-packages (from matplotlib) (0.10.0)\n",
      "Requirement already satisfied: pyparsing!=2.0.4,!=2.1.2,!=2.1.6,>=2.0.3 in /usr/local/lib/python3.6/dist-packages (from matplotlib) (2.4.6)\n",
      "Requirement already satisfied: python-dateutil>=2.1 in /usr/local/lib/python3.6/dist-packages (from matplotlib) (2.8.1)\n",
      "Requirement already satisfied: six in /usr/local/lib/python3.6/dist-packages (from cycler>=0.10->matplotlib) (1.14.0)\n",
      "Installing collected packages: pydot\n",
      "Successfully installed pydot-1.4.1\n",
      "\u001b[33mWARNING: You are using pip version 20.0.2; however, version 20.3.2 is available.\n",
      "You should consider upgrading via the '/usr/bin/python3 -m pip install --upgrade pip' command.\u001b[0m\n"
     ]
    }
   ],
   "source": [
    "## 直接安装opencv-python 会出现 from .cv2 import * ImportError: libGL.so.1: cannot open share \n",
    "# ! pip install opencv-python-headless\n",
    "! pip install matplotlib opencv-python-headless tqdm pydot GraphViz"
   ]
  },
  {
   "cell_type": "code",
   "execution_count": 24,
   "metadata": {},
   "outputs": [],
   "source": [
    "#解决pydot问题\n",
    "# 其实是pydot的原因，由于pydot已经停止开发了,pyhn3.5和 python36已经用不起来。解决方案是 \n",
    " \n",
    "# 第一步：先卸载掉已经安装的pydot:\n",
    "#      pip uninstall pydot \n",
    " \n",
    "# 第二步：安装pydotplus\n",
    "#      pip install pydotplus \n",
    "# 然后找到 keras里面的 utils\\vis_utils.py,把里面的pydot的都替换成 pydotplus\n",
    "\n",
    "# !pip uninstall pydot -y\n",
    "# !pip install pydotplus"
   ]
  },
  {
   "cell_type": "code",
   "execution_count": 25,
   "metadata": {},
   "outputs": [],
   "source": [
    "# GPU Deep AMI 可以使用conda\n",
    "# ! conda install graphviz"
   ]
  },
  {
   "cell_type": "code",
   "execution_count": 26,
   "metadata": {},
   "outputs": [
    {
     "name": "stdout",
     "output_type": "stream",
     "text": [
      "Using TensorFlow backend.\n",
      "WARNING:tensorflow:From /usr/local/lib/python3.6/dist-packages/tensorflow_core/__init__.py:1467: The name tf.estimator.inputs is deprecated. Please use tf.compat.v1.estimator.inputs instead.\n",
      "\n",
      " 27%|████████████                                | 6/22 [00:04<00:12,  1.25it/s]Traceback (most recent call last):\n",
      "  File \"3dcnn.py\", line 178, in <module>\n",
      "    main()\n",
      "  File \"3dcnn.py\", line 120, in main\n",
      "    args.output, args.color, args.skip)\n",
      "  File \"3dcnn.py\", line 77, in loaddata\n",
      "    X.append(vid3d.video3d(name, color=color, skip=skip))\n",
      "  File \"/root/customer/video-classify/3DCNN/videoto3d.py\", line 24, in video3d\n",
      "    frame = cv2.resize(frame, (self.height, self.width))\n",
      "cv2.error: OpenCV(4.4.0) /tmp/pip-req-build-hw4jq8lf/opencv/modules/imgproc/src/resize.cpp:3929: error: (-215:Assertion failed) !ssize.empty() in function 'resize'\n",
      "\n",
      " 27%|████████████                                | 6/22 [00:05<00:13,  1.20it/s]\n"
     ]
    }
   ],
   "source": [
    "! python 3dcnn.py --batch 32 --epoch 50 --videos dataset/ --nclass 10 --output 3dcnnresult/ --color True --skip False --depth 15"
   ]
  },
  {
   "cell_type": "markdown",
   "metadata": {},
   "source": [
    "### 修改脚本已适应Sagemaker"
   ]
  },
  {
   "cell_type": "markdown",
   "metadata": {},
   "source": [
    "## 本地调试"
   ]
  },
  {
   "cell_type": "code",
   "execution_count": 34,
   "metadata": {},
   "outputs": [
    {
     "name": "stdout",
     "output_type": "stream",
     "text": [
      "Using TensorFlow backend.\n",
      "WARNING:tensorflow:From /usr/local/lib/python3.6/dist-packages/tensorflow_core/__init__.py:1467: The name tf.estimator.inputs is deprecated. Please use tf.compat.v1.estimator.inputs instead.\n",
      "\n",
      "Traceback (most recent call last):\n",
      "  File \"sagemaker-3dcnn.py\", line 110, in <module>\n",
      "    main()\n",
      "  File \"sagemaker-3dcnn.py\", line 53, in main\n",
      "    parser.add_argument('--hosts', type=list, default=json.loads(os.environ.get('SM_HOSTS')))\n",
      "  File \"/usr/lib/python3.6/json/__init__.py\", line 348, in loads\n",
      "    'not {!r}'.format(s.__class__.__name__))\n",
      "TypeError: the JSON object must be str, bytes or bytearray, not 'NoneType'\n"
     ]
    }
   ],
   "source": [
    "# 代码参考 https://github.com/VerRan/amazon-sagemaker-examples/blob/master/sagemaker-python-sdk/tensorflow_script_mode_training_and_serving/mnist-2.py\n",
    "! python3 sagemaker-3dcnn.py --batch 3 --data_dir np-datasets --epoch 3 --output default-output  --nclass 8"
   ]
  },
  {
   "cell_type": "code",
   "execution_count": null,
   "metadata": {},
   "outputs": [],
   "source": []
  }
 ],
 "metadata": {
  "instance_type": "ml.g4dn.xlarge",
  "kernelspec": {
   "display_name": "Python 3 (TensorFlow 1.15 Python 3.6 GPU Optimized)",
   "language": "python",
   "name": "python3__SAGEMAKER_INTERNAL__arn:aws:sagemaker:us-west-2:236514542706:image/tensorflow-1.15-gpu-py36"
  },
  "language_info": {
   "codemirror_mode": {
    "name": "ipython",
    "version": 3
   },
   "file_extension": ".py",
   "mimetype": "text/x-python",
   "name": "python",
   "nbconvert_exporter": "python",
   "pygments_lexer": "ipython3",
   "version": "3.6.9"
  }
 },
 "nbformat": 4,
 "nbformat_minor": 4
}
