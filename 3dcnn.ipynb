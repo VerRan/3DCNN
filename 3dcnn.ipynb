{
 "cells": [
  {
   "cell_type": "markdown",
   "metadata": {},
   "source": [
    "# 3DCNN分类youtub视频\n",
    "数据集采用UCF 101 数据集（https://www.dazhuanlan.com/2019/10/16/5da6679ab4a42/）\n"
   ]
  },
  {
   "cell_type": "markdown",
   "metadata": {},
   "source": [
    "## 直接使用notebook环境-gpu 测试"
   ]
  },
  {
   "cell_type": "code",
   "execution_count": 4,
   "metadata": {},
   "outputs": [
    {
     "name": "stdout",
     "output_type": "stream",
     "text": [
      "Requirement already satisfied: matplotlib in /usr/local/lib/python3.6/dist-packages (3.3.3)\n",
      "\u001b[31mERROR: Could not find a version that satisfies the requirement cv2 (from versions: none)\u001b[0m\n",
      "\u001b[31mERROR: No matching distribution found for cv2\u001b[0m\n",
      "\u001b[33mWARNING: You are using pip version 20.0.2; however, version 20.3.2 is available.\n",
      "You should consider upgrading via the '/usr/bin/python3 -m pip install --upgrade pip' command.\u001b[0m\n"
     ]
    }
   ],
   "source": [
    "! pip install matplotlib"
   ]
  },
  {
   "cell_type": "code",
   "execution_count": 6,
   "metadata": {},
   "outputs": [
    {
     "name": "stdout",
     "output_type": "stream",
     "text": [
      "Requirement already satisfied: pip in /usr/local/lib/python3.6/dist-packages (20.0.2)\n",
      "Collecting install\n",
      "  Downloading install-1.3.4-py3-none-any.whl (3.1 kB)\n",
      "Collecting opencv-python\n",
      "  Downloading opencv_python-4.4.0.46-cp36-cp36m-manylinux2014_x86_64.whl (49.5 MB)\n",
      "\u001b[K     |████████████████████████████████| 49.5 MB 177 kB/s  eta 0:00:01\n",
      "\u001b[?25hRequirement already satisfied: numpy>=1.13.3 in /usr/local/lib/python3.6/dist-packages (from opencv-python) (1.18.2)\n",
      "Installing collected packages: install, opencv-python\n",
      "Successfully installed install-1.3.4 opencv-python-4.4.0.46\n",
      "\u001b[33mWARNING: You are using pip version 20.0.2; however, version 20.3.2 is available.\n",
      "You should consider upgrading via the '/usr/bin/python3 -m pip install --upgrade pip' command.\u001b[0m\n"
     ]
    }
   ],
   "source": [
    "# ! pip install pip install opencv-python"
   ]
  },
  {
   "cell_type": "code",
   "execution_count": 23,
   "metadata": {},
   "outputs": [],
   "source": [
    "# wget http://yum.baseurl.org/download/3.2/yum-3.2.28.tar.gz\n",
    "# tar xvf yum-3.2.28.tar.gz "
   ]
  },
  {
   "cell_type": "code",
   "execution_count": 24,
   "metadata": {},
   "outputs": [],
   "source": [
    "# ! pip uninstall opencv-python -y"
   ]
  },
  {
   "cell_type": "code",
   "execution_count": 21,
   "metadata": {},
   "outputs": [
    {
     "name": "stdout",
     "output_type": "stream",
     "text": [
      "Collecting opencv-python-headless\n",
      "  Downloading opencv_python_headless-4.4.0.46-cp36-cp36m-manylinux2014_x86_64.whl (36.7 MB)\n",
      "\u001b[K     |████████████████████████████████| 36.7 MB 7.7 MB/s eta 0:00:01\n",
      "\u001b[?25hRequirement already satisfied: numpy>=1.13.3 in /usr/local/lib/python3.6/dist-packages (from opencv-python-headless) (1.18.2)\n",
      "Installing collected packages: opencv-python-headless\n",
      "Successfully installed opencv-python-headless-4.4.0.46\n",
      "\u001b[33mWARNING: You are using pip version 20.0.2; however, version 20.3.2 is available.\n",
      "You should consider upgrading via the '/usr/bin/python3 -m pip install --upgrade pip' command.\u001b[0m\n"
     ]
    }
   ],
   "source": [
    "## 直接安装opencv-python 会出现 from .cv2 import * ImportError: libGL.so.1: cannot open share \n",
    "! pip install opencv-python-headless"
   ]
  },
  {
   "cell_type": "code",
   "execution_count": 31,
   "metadata": {},
   "outputs": [
    {
     "name": "stdout",
     "output_type": "stream",
     "text": [
      "Requirement already satisfied: tqdm in /usr/local/lib/python3.6/dist-packages (4.54.1)\n",
      "Requirement already satisfied: pydot in /usr/local/lib/python3.6/dist-packages (1.4.1)\n",
      "Collecting GraphViz\n",
      "  Downloading graphviz-0.15-py2.py3-none-any.whl (18 kB)\n",
      "Requirement already satisfied: pyparsing>=2.1.4 in /usr/local/lib/python3.6/dist-packages (from pydot) (2.4.6)\n",
      "Installing collected packages: GraphViz\n",
      "Successfully installed GraphViz-0.15\n",
      "\u001b[33mWARNING: You are using pip version 20.0.2; however, version 20.3.2 is available.\n",
      "You should consider upgrading via the '/usr/bin/python3 -m pip install --upgrade pip' command.\u001b[0m\n"
     ]
    }
   ],
   "source": [
    "! pip install tqdm pydot GraphViz"
   ]
  },
  {
   "cell_type": "code",
   "execution_count": 36,
   "metadata": {},
   "outputs": [
    {
     "name": "stdout",
     "output_type": "stream",
     "text": [
      "\u001b[33mWARNING: Skipping pydot as it is not installed.\u001b[0m\n",
      "Collecting pydotplus\n",
      "  Downloading pydotplus-2.0.2.tar.gz (278 kB)\n",
      "\u001b[K     |████████████████████████████████| 278 kB 8.9 MB/s eta 0:00:01\n",
      "\u001b[?25hRequirement already satisfied: pyparsing>=2.0.1 in /usr/local/lib/python3.6/dist-packages (from pydotplus) (2.4.6)\n",
      "Building wheels for collected packages: pydotplus\n",
      "  Building wheel for pydotplus (setup.py) ... \u001b[?25ldone\n",
      "\u001b[?25h  Created wheel for pydotplus: filename=pydotplus-2.0.2-py3-none-any.whl size=24566 sha256=fb64be21f01ca523224203e39c21d28795f4af1fac11f125c6281345bd033a45\n",
      "  Stored in directory: /root/.cache/pip/wheels/1f/5c/ba/f931f74fcac8f48b18ae597279203b1c1f92fc76249c2b6f66\n",
      "Successfully built pydotplus\n",
      "Installing collected packages: pydotplus\n",
      "Successfully installed pydotplus-2.0.2\n",
      "\u001b[33mWARNING: You are using pip version 20.0.2; however, version 20.3.2 is available.\n",
      "You should consider upgrading via the '/usr/bin/python3 -m pip install --upgrade pip' command.\u001b[0m\n"
     ]
    }
   ],
   "source": [
    "#解决pydot问题\n",
    "# 其实是pydot的原因，由于pydot已经停止开发了,pyhn3.5和 python36已经用不起来。解决方案是 \n",
    " \n",
    "# 第一步：先卸载掉已经安装的pydot:\n",
    "#      pip uninstall pydot \n",
    " \n",
    "# 第二步：安装pydotplus\n",
    "#      pip install pydotplus \n",
    "# 然后找到 keras里面的 utils\\vis_utils.py,把里面的pydot的都替换成 pydotplus\n",
    "\n",
    "!pip uninstall pydot -y\n",
    "!pip install pydotplus"
   ]
  },
  {
   "cell_type": "code",
   "execution_count": 50,
   "metadata": {},
   "outputs": [
    {
     "name": "stdout",
     "output_type": "stream",
     "text": [
      "Found existing installation: graphviz 0.15\n",
      "Uninstalling graphviz-0.15:\n",
      "  Successfully uninstalled graphviz-0.15\n",
      "Collecting graphviz\n",
      "  Using cached graphviz-0.15-py2.py3-none-any.whl (18 kB)\n",
      "Installing collected packages: graphviz\n",
      "Successfully installed graphviz-0.15\n",
      "\u001b[33mWARNING: You are using pip version 20.0.2; however, version 20.3.2 is available.\n",
      "You should consider upgrading via the '/usr/bin/python3 -m pip install --upgrade pip' command.\u001b[0m\n"
     ]
    }
   ],
   "source": [
    "! pip uninstall graphviz -y\n",
    "! pip install graphviz"
   ]
  },
  {
   "cell_type": "code",
   "execution_count": 52,
   "metadata": {},
   "outputs": [
    {
     "name": "stdout",
     "output_type": "stream",
     "text": [
      "/bin/sh: 1: conda: not found\n"
     ]
    }
   ],
   "source": [
    "# ! conda install graphviz"
   ]
  },
  {
   "cell_type": "code",
   "execution_count": 51,
   "metadata": {},
   "outputs": [
    {
     "name": "stdout",
     "output_type": "stream",
     "text": [
      "Using TensorFlow backend.\n",
      "WARNING:tensorflow:From /usr/local/lib/python3.6/dist-packages/tensorflow_core/__init__.py:1467: The name tf.estimator.inputs is deprecated. Please use tf.compat.v1.estimator.inputs instead.\n",
      "\n",
      "X_shape:(4, 32, 32, 15, 3)\n",
      "Y_shape:(4, 10)\n",
      "3dcnn.py:132: UserWarning: Update your `Conv3D` call to the Keras 2 API: `Conv3D(32, kernel_size=(3, 3, 3), input_shape=(32, 32, 1..., padding=\"same\")`\n",
      "  X.shape[1:]), border_mode='same'))\n",
      "WARNING:tensorflow:From /usr/local/lib/python3.6/dist-packages/tensorflow_core/python/ops/resource_variable_ops.py:1630: calling BaseResourceVariable.__init__ (from tensorflow.python.ops.resource_variable_ops) with constraint is deprecated and will be removed in a future version.\n",
      "Instructions for updating:\n",
      "If using Keras pass *_constraint arguments to layers.\n",
      "3dcnn.py:134: UserWarning: Update your `Conv3D` call to the Keras 2 API: `Conv3D(32, kernel_size=(3, 3, 3), padding=\"same\")`\n",
      "  model.add(Conv3D(32, kernel_size=(3, 3, 3), border_mode='same'))\n",
      "3dcnn.py:136: UserWarning: Update your `MaxPooling3D` call to the Keras 2 API: `MaxPooling3D(pool_size=(3, 3, 3), padding=\"same\")`\n",
      "  model.add(MaxPooling3D(pool_size=(3, 3, 3), border_mode='same'))\n",
      "3dcnn.py:139: UserWarning: Update your `Conv3D` call to the Keras 2 API: `Conv3D(64, kernel_size=(3, 3, 3), padding=\"same\")`\n",
      "  model.add(Conv3D(64, kernel_size=(3, 3, 3), border_mode='same'))\n",
      "3dcnn.py:141: UserWarning: Update your `Conv3D` call to the Keras 2 API: `Conv3D(64, kernel_size=(3, 3, 3), padding=\"same\")`\n",
      "  model.add(Conv3D(64, kernel_size=(3, 3, 3), border_mode='same'))\n",
      "3dcnn.py:143: UserWarning: Update your `MaxPooling3D` call to the Keras 2 API: `MaxPooling3D(pool_size=(3, 3, 3), padding=\"same\")`\n",
      "  model.add(MaxPooling3D(pool_size=(3, 3, 3), border_mode='same'))\n",
      "Model: \"sequential_1\"\n",
      "_________________________________________________________________\n",
      "Layer (type)                 Output Shape              Param #   \n",
      "=================================================================\n",
      "conv3d_1 (Conv3D)            (None, 32, 32, 15, 32)    2624      \n",
      "_________________________________________________________________\n",
      "activation_1 (Activation)    (None, 32, 32, 15, 32)    0         \n",
      "_________________________________________________________________\n",
      "conv3d_2 (Conv3D)            (None, 32, 32, 15, 32)    27680     \n",
      "_________________________________________________________________\n",
      "activation_2 (Activation)    (None, 32, 32, 15, 32)    0         \n",
      "_________________________________________________________________\n",
      "max_pooling3d_1 (MaxPooling3 (None, 11, 11, 5, 32)     0         \n",
      "_________________________________________________________________\n",
      "dropout_1 (Dropout)          (None, 11, 11, 5, 32)     0         \n",
      "_________________________________________________________________\n",
      "conv3d_3 (Conv3D)            (None, 11, 11, 5, 64)     55360     \n",
      "_________________________________________________________________\n",
      "activation_3 (Activation)    (None, 11, 11, 5, 64)     0         \n",
      "_________________________________________________________________\n",
      "conv3d_4 (Conv3D)            (None, 11, 11, 5, 64)     110656    \n",
      "_________________________________________________________________\n",
      "activation_4 (Activation)    (None, 11, 11, 5, 64)     0         \n",
      "_________________________________________________________________\n",
      "max_pooling3d_2 (MaxPooling3 (None, 4, 4, 2, 64)       0         \n",
      "_________________________________________________________________\n",
      "dropout_2 (Dropout)          (None, 4, 4, 2, 64)       0         \n",
      "_________________________________________________________________\n",
      "flatten_1 (Flatten)          (None, 2048)              0         \n",
      "_________________________________________________________________\n",
      "dense_1 (Dense)              (None, 512)               1049088   \n",
      "_________________________________________________________________\n",
      "dropout_3 (Dropout)          (None, 512)               0         \n",
      "_________________________________________________________________\n",
      "dense_2 (Dense)              (None, 10)                5130      \n",
      "=================================================================\n",
      "Total params: 1,250,538\n",
      "Trainable params: 1,250,538\n",
      "Non-trainable params: 0\n",
      "_________________________________________________________________\n",
      "Traceback (most recent call last):\n",
      "  File \"3dcnn.py\", line 178, in <module>\n",
      "    main()\n",
      "  File \"3dcnn.py\", line 155, in main\n",
      "    to_file=os.path.join(args.output, 'model.png'))\n",
      "  File \"/usr/local/lib/python3.6/dist-packages/keras/utils/vis_utils.py\", line 240, in plot_model\n",
      "    expand_nested, dpi)\n",
      "  File \"/usr/local/lib/python3.6/dist-packages/keras/utils/vis_utils.py\", line 79, in model_to_dot\n",
      "    _check_pydot()\n",
      "  File \"/usr/local/lib/python3.6/dist-packages/keras/utils/vis_utils.py\", line 28, in _check_pydot\n",
      "    pydotplus.Dot.create(pydotplus.Dot())\n",
      "  File \"/usr/local/lib/python3.6/dist-packages/pydotplus/graphviz.py\", line 1960, in create\n",
      "    'GraphViz\\'s executables not found')\n",
      "pydotplus.graphviz.InvocationException: GraphViz's executables not found\n"
     ]
    }
   ],
   "source": [
    "! python 3dcnn.py --batch 32 --epoch 50 --videos dataset/ --nclass 10 --output 3dcnnresult/ --color True --skip False --depth 15"
   ]
  },
  {
   "cell_type": "markdown",
   "metadata": {},
   "source": [
    "## 使用Deep AMI训练\n",
    "1. ssh 到deep ami ec2\n",
    "2. 启动keras 环境，tensorflow2_p36 ，启动jupyter notebook\n",
    "3. 打开隧道，本机才可以访问远程ec2上的notebook\n",
    "ssh -i test-oregon.pem.pem -N -f -L 8888:localhost:8888 ubuntu@ec2-54-184-219-24.us-west-2.compute.amazonaws.com\n",
    "4. http://127.0.0.1:8888/?token=aaa30a0486929bdd5adcff3d0dd4e2c433b1bb84313a72ba\n",
    "\n",
    "https://docs.amazonaws.cn/dlami/latest/devguide/setup-jupyter-configure-client-linux.html"
   ]
  },
  {
   "cell_type": "code",
   "execution_count": null,
   "metadata": {},
   "outputs": [],
   "source": []
  }
 ],
 "metadata": {
  "instance_type": "ml.g4dn.xlarge",
  "kernelspec": {
   "display_name": "Python 3 (TensorFlow 1.15 Python 3.6 GPU Optimized)",
   "language": "python",
   "name": "python3__SAGEMAKER_INTERNAL__arn:aws:sagemaker:us-west-2:236514542706:image/tensorflow-1.15-gpu-py36"
  },
  "language_info": {
   "codemirror_mode": {
    "name": "ipython",
    "version": 3
   },
   "file_extension": ".py",
   "mimetype": "text/x-python",
   "name": "python",
   "nbconvert_exporter": "python",
   "pygments_lexer": "ipython3",
   "version": "3.6.9"
  }
 },
 "nbformat": 4,
 "nbformat_minor": 4
}
