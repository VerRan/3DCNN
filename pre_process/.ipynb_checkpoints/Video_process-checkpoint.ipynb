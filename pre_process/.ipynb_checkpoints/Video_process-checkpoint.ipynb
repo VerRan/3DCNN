{
 "cells": [
  {
   "cell_type": "markdown",
   "metadata": {},
   "source": [
    "# 使用sagemaker-processing-job 进行视频文件预处理"
   ]
  },
  {
   "cell_type": "code",
   "execution_count": 110,
   "metadata": {},
   "outputs": [],
   "source": [
    "import sagemaker\n",
    "from sagemaker.tensorflow import TensorFlow\n",
    "import os \n",
    "from sagemaker import get_execution_role\n",
    "\n",
    "sagemaker_session = sagemaker.Session()\n",
    "\n",
    "role = get_execution_role()\n",
    "image_uri = '517141035927.dkr.ecr.us-west-2.amazonaws.com/cv-pre-processing:latest'\n"
   ]
  },
  {
   "cell_type": "code",
   "execution_count": 113,
   "metadata": {},
   "outputs": [],
   "source": [
    "from sagemaker.processing import Processor, ScriptProcessor, ProcessingInput, ProcessingOutput\n",
    "\n",
    "# processor = ScriptProcessor(command=['python3'],\n",
    "#                 image_uri=image_uri,\n",
    "#                 role=role,\n",
    "#                 instance_count=1,\n",
    "#                 instance_type='ml.m5.xlarge')\n",
    "# processor.run(code='processing_script.py',inputs=[ProcessingInput(\n",
    "#                         source='s3://sagemaker-us-west-2-517141035927/dataset/videos/',\n",
    "#                         destination='/opt/ml/processing/input_data')],\n",
    "#                     outputs=[ProcessingOutput(\n",
    "#                         source='/opt/ml/processing/processed_data',\n",
    "#                         destination='s3://sagemaker-us-west-2-517141035927/dataset/np/')],\n",
    "#                     )\n",
    "processor = Processor(image_uri=image_uri,\n",
    "                     role=role,\n",
    "                     instance_count=1,\n",
    "                     instance_type=\"ml.m5.xlarge\")\n",
    "processor.run(inputs=[ProcessingInput(\n",
    "                        source='s3://sagemaker-us-west-2-517141035927/dataset/videos/',\n",
    "                        destination='/opt/ml/processing/input_data')],\n",
    "                    outputs=[ProcessingOutput(\n",
    "                        source='/opt/ml/processing/processed_data',\n",
    "                        destination='s3://sagemaker-us-west-2-517141035927/dataset/np/')],\n",
    "                    )"
   ]
  },
  {
   "cell_type": "markdown",
   "metadata": {},
   "source": [
    "## 使用增强清单"
   ]
  },
  {
   "cell_type": "code",
   "execution_count": null,
   "metadata": {},
   "outputs": [],
   "source": []
  }
 ],
 "metadata": {
  "instance_type": "ml.c5.large",
  "kernelspec": {
   "display_name": "Python 3 (Data Science)",
   "language": "python",
   "name": "python3__SAGEMAKER_INTERNAL__arn:aws:sagemaker:us-west-2:236514542706:image/datascience-1.0"
  },
  "language_info": {
   "codemirror_mode": {
    "name": "ipython",
    "version": 3
   },
   "file_extension": ".py",
   "mimetype": "text/x-python",
   "name": "python",
   "nbconvert_exporter": "python",
   "pygments_lexer": "ipython3",
   "version": "3.7.6"
  }
 },
 "nbformat": 4,
 "nbformat_minor": 4
}
