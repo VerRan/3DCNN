{
 "cells": [
  {
   "cell_type": "code",
   "execution_count": 14,
   "metadata": {},
   "outputs": [],
   "source": [
    "import sagemaker\n",
    "from sagemaker.tensorflow import TensorFlow\n",
    "import os \n",
    "from sagemaker import get_execution_role\n",
    "\n",
    "sagemaker_session = sagemaker.Session()\n",
    "\n",
    "role = get_execution_role()\n",
    "region = sagemaker_session.boto_session.region_name\n"
   ]
  },
  {
   "cell_type": "markdown",
   "metadata": {},
   "source": [
    "## 数据预处理\n",
    "将视频数据转换成np"
   ]
  },
  {
   "cell_type": "code",
   "execution_count": 158,
   "metadata": {},
   "outputs": [],
   "source": [
    "from os import *\n",
    "# import tqdm\n",
    "from tqdm import *\n",
    "import codecs\n",
    "from keras.utils import np_utils\n",
    "import videoto3d \n",
    "\n",
    "def loaddata(video_dir, vid3d, nclass, result_dir, color=False, skip=True):\n",
    "        files = os.listdir(video_dir)\n",
    "        X = []\n",
    "        labels = []\n",
    "        labellist = []\n",
    "\n",
    "        pbar = tqdm(total=len(files))\n",
    "\n",
    "        for filename in files:\n",
    "            pbar.update(1)\n",
    "            if filename == '.DS_Store':\n",
    "                continue\n",
    "            name = os.path.join(video_dir, filename)\n",
    "            print('filename is ',filename)\n",
    "            label = vid3d.get_UCF_classname(filename)\n",
    "            if label not in labellist:\n",
    "                if len(labellist) >= nclass:\n",
    "                    continue\n",
    "                labellist.append(label)\n",
    "            labels.append(label)\n",
    "            X.append(vid3d.video3d(name, color=color, skip=skip))\n",
    "\n",
    "        pbar.close()\n",
    "        print('result_dir is ',result_dir)\n",
    "        fpath = result_dir + 'classes.txt'\n",
    "        fp = codecs.open(fpath,'a','utf-8')\n",
    "        print('labels length is ',len(labellist))\n",
    "        for i in range(len(labellist)):\n",
    "            fp.write('{}\\n'.format(labellist[i]))\n",
    "\n",
    "        for num, label in enumerate(labellist):\n",
    "            for i in range(len(labels)):\n",
    "                if label == labels[i]:\n",
    "                    labels[i] = num\n",
    "        if color:\n",
    "            return np.array(X).transpose((0, 2, 3, 4, 1)), labels\n",
    "        else:\n",
    "            return np.array(X).transpose((0, 2, 3, 1)), labels\n",
    "\n",
    "        \n",
    "def process():\n",
    "        nclass = 8\n",
    "        depth = 15\n",
    "        skip = False\n",
    "        color = True\n",
    "        img_rows, img_cols, frames = 32, 32, depth\n",
    "\n",
    "        channel = 3 if color else 1\n",
    "#         fname_npz = 'dataset_{}_{}_{}.npz'.format(\n",
    "#                 nclass, depth, skip)\n",
    "        fname_npz = 'np-datasets/train_data.npz'\n",
    "        output = 'default-output/'\n",
    "        videos = 'dataset/'\n",
    "\n",
    "        vid3d = videoto3d.Videoto3D(img_rows, img_cols, frames)\n",
    "        nb_classes = nclass\n",
    "        if os.path.exists(fname_npz):\n",
    "                loadeddata = np.load(fname_npz)\n",
    "                X, Y = loadeddata[\"X\"], loadeddata[\"Y\"]\n",
    "#                 print(X)\n",
    "#                 print(Y)\n",
    "        else:\n",
    "                x, y = loaddata(videos, vid3d, nclass,\n",
    "                                output, color, skip)\n",
    "                X = x.reshape((x.shape[0], img_rows, img_cols, frames, channel))\n",
    "                Y = np_utils.to_categorical(y, nb_classes)\n",
    "\n",
    "                X = X.astype('float32')\n",
    "                np.savez(fname_npz, X=X, Y=Y)\n",
    "        print('Saved dataset to dataset.npz.')\n",
    "        print('X_shape:{}\\nY_shape:{}'.format(X.shape, Y.shape))\n"
   ]
  },
  {
   "cell_type": "code",
   "execution_count": 159,
   "metadata": {},
   "outputs": [
    {
     "name": "stdout",
     "output_type": "stream",
     "text": [
      "Saved dataset to dataset.npz.\n",
      "X_shape:(15, 32, 32, 15, 3)\n",
      "Y_shape:(15, 8)\n"
     ]
    }
   ],
   "source": [
    "process()"
   ]
  },
  {
   "cell_type": "markdown",
   "metadata": {},
   "source": [
    "## 数据准备\n",
    "将视频数据转换为向量部分代码，独立出来"
   ]
  },
  {
   "cell_type": "markdown",
   "metadata": {},
   "source": [
    "开始上传数据\n"
   ]
  },
  {
   "cell_type": "code",
   "execution_count": 160,
   "metadata": {},
   "outputs": [],
   "source": [
    "# CLI上传\n",
    "# aws s3 cp video_sample s3://sagemaker-studio-517141035927-qdeikgx1x88/ --recursive\n",
    "# python s3 demo\n",
    "# https://github.com/aws-samples/aws-python-sample/blob/master/s3_sample.py"
   ]
  },
  {
   "cell_type": "code",
   "execution_count": 161,
   "metadata": {},
   "outputs": [
    {
     "data": {
      "text/plain": [
       "'s3://sagemaker-us-west-2-517141035927/dataset/np'"
      ]
     },
     "execution_count": 161,
     "metadata": {},
     "output_type": "execute_result"
    }
   ],
   "source": [
    "inputs = sagemaker.Session().upload_data(path='np-datasets', key_prefix='dataset/np')\n",
    "# inputs = 's3://sagemaker-studio-517141035927-qdeikgx1x88/videos/'.format(region)\n",
    "# inputs = {'training': f'file://{customer/video-classify/3DCNN/dataset}'}\n",
    "inputs"
   ]
  },
  {
   "cell_type": "code",
   "execution_count": null,
   "metadata": {},
   "outputs": [],
   "source": [
    "#     parser.add_argument('--batch', type=int, default=128)\n",
    "#     parser.add_argument('--epoch', type=int, default=100)\n",
    "#     parser.add_argument('--videos', type=str, default='UCF101',\n",
    "#                         help='directory where videos are stored')\n",
    "#     parser.add_argument('--nclass', type=int, default=101)\n",
    "#     parser.add_argument('--output', type=str, required=True)\n",
    "#     parser.add_argument('--color', type=bool, default=False)\n",
    "#     parser.add_argument('--skip', type=bool, default=True)\n",
    "#     parser.add_argument('--depth', type=int, default=10)\n",
    "    \n",
    "hyperparameters = {'epoch': 3, \n",
    "                   'data_dir': '/opt/ml/input/data/training',\n",
    "                   'batch': 3, \n",
    "#                    'videos': 'file://home/sagemaker-user/customer/video-classify/3DCNN/dataset', \n",
    "#                    'videos':'/opt/ml/input/data/training',\n",
    "                   'nclass': 8,\n",
    "                   'output': '/opt/ml/output',\n",
    "                  }\n"
   ]
  },
  {
   "cell_type": "markdown",
   "metadata": {},
   "source": [
    "代码读取github方式："
   ]
  },
  {
   "cell_type": "code",
   "execution_count": 163,
   "metadata": {},
   "outputs": [],
   "source": [
    "# git_config = {'repo': 'https://github.com/VerRan/3DCNN.git', 'branch': 'script'}\n",
    "# estimator = TensorFlow(entry_point='sagemaker-3dcnn.py',\n",
    "# #                        source_dir='char-rnn-tensorflow',\n",
    "#                        git_config=git_config,\n",
    "#                        train_instance_type='ml.c4.xlarge', # Executes training in a ml.c4.xlarge instance\n",
    "#                        train_instance_count=1,\n",
    "#                        hyperparameters=hyperparameters,\n",
    "#                        role=sagemaker.get_execution_role(),\n",
    "#                        framework_version='1.15.2',\n",
    "#                        py_version='py3',\n",
    "#                        script_mode=True)"
   ]
  },
  {
   "cell_type": "markdown",
   "metadata": {},
   "source": [
    "本地调试"
   ]
  },
  {
   "cell_type": "code",
   "execution_count": 168,
   "metadata": {},
   "outputs": [
    {
     "name": "stdout",
     "output_type": "stream",
     "text": [
      "Using TensorFlow backend.\n",
      "Traceback (most recent call last):\n",
      "  File \"sagemaker-3dcnn.py\", line 110, in <module>\n",
      "    main()\n",
      "  File \"sagemaker-3dcnn.py\", line 53, in main\n",
      "    parser.add_argument('--hosts', type=list, default=json.loads(os.environ.get('SM_HOSTS')))\n",
      "NameError: name 'json' is not defined\n"
     ]
    }
   ],
   "source": [
    "! python3 sagemaker-3dcnn.py --batch 3 --data_dir np-datasets --epoch 3 --output default-output  --nclass 8"
   ]
  },
  {
   "cell_type": "code",
   "execution_count": 169,
   "metadata": {},
   "outputs": [],
   "source": [
    "estimator = TensorFlow(entry_point='sagemaker-3dcnn.py',\n",
    "#                        source_dir='char-rnn-tensorflow',\n",
    "#                        git_config=git_config,\n",
    "#                        dependencies=['/usr/local/lib/python3.6/dist-packages/opencv_python_headless-4.4.0.46.dist-info','videoto3d.py'],\n",
    "                       train_instance_type='ml.c4.xlarge', # Executes training in a ml.c4.xlarge instance\n",
    "                       train_instance_count=1,\n",
    "                       hyperparameters=hyperparameters,\n",
    "                       role=sagemaker.get_execution_role(),\n",
    "                       framework_version='1.15.2',\n",
    "                       py_version='py3',\n",
    "                       script_mode=True)"
   ]
  },
  {
   "cell_type": "code",
   "execution_count": null,
   "metadata": {},
   "outputs": [
    {
     "name": "stdout",
     "output_type": "stream",
     "text": [
      "2020-12-16 13:34:17 Starting - Starting the training job..."
     ]
    }
   ],
   "source": [
    "estimator.fit({'training': inputs})"
   ]
  },
  {
   "cell_type": "code",
   "execution_count": 23,
   "metadata": {},
   "outputs": [
    {
     "name": "stdout",
     "output_type": "stream",
     "text": [
      "metadata\n"
     ]
    }
   ],
   "source": [
    "!  ls  /opt/ml"
   ]
  }
 ],
 "metadata": {
  "instance_type": "ml.t3.medium",
  "kernelspec": {
   "display_name": "Python 3 (TensorFlow 2.1 Python 3.6 CPU Optimized)",
   "language": "python",
   "name": "python3__SAGEMAKER_INTERNAL__arn:aws:sagemaker:us-west-2:236514542706:image/tensorflow-2.1-cpu-py36"
  },
  "language_info": {
   "codemirror_mode": {
    "name": "ipython",
    "version": 3
   },
   "file_extension": ".py",
   "mimetype": "text/x-python",
   "name": "python",
   "nbconvert_exporter": "python",
   "pygments_lexer": "ipython3",
   "version": "3.6.9"
  }
 },
 "nbformat": 4,
 "nbformat_minor": 4
}
